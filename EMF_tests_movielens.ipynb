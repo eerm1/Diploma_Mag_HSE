{
 "cells": [
  {
   "cell_type": "code",
   "execution_count": 2,
   "id": "97e563ab-afc2-45bd-8449-dcf674759539",
   "metadata": {},
   "outputs": [],
   "source": [
    "from EMF import *"
   ]
  },
  {
   "cell_type": "code",
   "execution_count": 1,
   "id": "f5ee73f7-8104-4f8e-a63e-7b890875bfcd",
   "metadata": {},
   "outputs": [
    {
     "name": "stderr",
     "output_type": "stream",
     "text": [
      "/opt/conda/lib/python3.9/site-packages/_distutils_hack/__init__.py:30: UserWarning: Setuptools is replacing distutils.\n",
      "  warnings.warn(\"Setuptools is replacing distutils.\")\n"
     ]
    }
   ],
   "source": [
    "from preprocess import * "
   ]
  },
  {
   "cell_type": "code",
   "execution_count": 3,
   "id": "68375301-36ab-4f4d-9062-e1aa56e4b84b",
   "metadata": {},
   "outputs": [],
   "source": [
    "from usertouser import *"
   ]
  },
  {
   "cell_type": "code",
   "execution_count": 4,
   "id": "88dec892-b3ec-4bc5-a4a2-d561009ec620",
   "metadata": {},
   "outputs": [],
   "source": [
    "def explainable_score(user2user, users, items, theta=0):\n",
    "    \n",
    "    def _progress(count):\n",
    "        sys.stdout.write('\\rCompute Explainable score. Progress status : %.1f%%'%(float(count/len(users))*100.0))\n",
    "        sys.stdout.flush()\n",
    "    # initialize explainable score to zeros\n",
    "    W = np.zeros((len(users), len(items)))\n",
    "\n",
    "    for count, u in enumerate(users):            \n",
    "        candidate_items = user2user.find_user_candidate_items(u)        \n",
    "        for i in candidate_items:                \n",
    "            user_who_rated_i, similar_user_who_rated_i = \\\n",
    "                user2user.similar_users_who_rated_this_item(u, i)\n",
    "            if user_who_rated_i.shape[0] == 0:\n",
    "                w = 0.0\n",
    "            else:\n",
    "                w = similar_user_who_rated_i.shape[0] / user_who_rated_i.shape[0]\n",
    "            W[u,i] =  w  if w > theta else 0.0\n",
    "        _progress(count)\n",
    "    return W\n"
   ]
  },
  {
   "cell_type": "code",
   "execution_count": 5,
   "id": "6739b4d6-eb04-485e-bc66-25d9f857634c",
   "metadata": {},
   "outputs": [],
   "source": [
    "epochs = 10\n"
   ]
  },
  {
   "cell_type": "code",
   "execution_count": 6,
   "id": "89d017dc-21c8-4b49-8c93-d9ef205d7524",
   "metadata": {},
   "outputs": [],
   "source": [
    "# load data\n",
    "ratings, movies = prep_movielens()"
   ]
  },
  {
   "cell_type": "code",
   "execution_count": 12,
   "id": "ac171411-ecf5-4661-af35-0d3408eace5e",
   "metadata": {},
   "outputs": [],
   "source": [
    "ratings, uencoder, iencoder = ids_encoder(ratings)"
   ]
  },
  {
   "cell_type": "code",
   "execution_count": 8,
   "id": "3b1f07f7-e9f4-4ade-b050-a40b9e5b6257",
   "metadata": {},
   "outputs": [],
   "source": [
    "users = sorted(ratings.userid.unique())\n",
    "items = sorted(ratings.itemid.unique())\n",
    "\n",
    "m = len(users)\n",
    "n = len(items)\n",
    "\n",
    "# get examples as tuples of userids and itemids and labels from normalize ratings\n",
    "raw_examples, raw_labels = get_examples(ratings)\n",
    "\n",
    "# train test split\n",
    "(x_train, x_test), (y_train, y_test) = train_test_split(examples=raw_examples, labels=raw_labels)\n"
   ]
  },
  {
   "cell_type": "code",
   "execution_count": 9,
   "id": "e1775dc1-b9c5-42fc-995e-6e1c6f7288ed",
   "metadata": {},
   "outputs": [
    {
     "data": {
      "text/html": [
       "<div>\n",
       "<style scoped>\n",
       "    .dataframe tbody tr th:only-of-type {\n",
       "        vertical-align: middle;\n",
       "    }\n",
       "\n",
       "    .dataframe tbody tr th {\n",
       "        vertical-align: top;\n",
       "    }\n",
       "\n",
       "    .dataframe thead th {\n",
       "        text-align: right;\n",
       "    }\n",
       "</style>\n",
       "<table border=\"1\" class=\"dataframe\">\n",
       "  <thead>\n",
       "    <tr style=\"text-align: right;\">\n",
       "      <th></th>\n",
       "      <th>userid</th>\n",
       "      <th>itemid</th>\n",
       "      <th>rating</th>\n",
       "    </tr>\n",
       "  </thead>\n",
       "  <tbody>\n",
       "    <tr>\n",
       "      <th>0</th>\n",
       "      <td>0</td>\n",
       "      <td>0</td>\n",
       "      <td>5</td>\n",
       "    </tr>\n",
       "    <tr>\n",
       "      <th>1</th>\n",
       "      <td>0</td>\n",
       "      <td>1</td>\n",
       "      <td>3</td>\n",
       "    </tr>\n",
       "    <tr>\n",
       "      <th>2</th>\n",
       "      <td>0</td>\n",
       "      <td>2</td>\n",
       "      <td>4</td>\n",
       "    </tr>\n",
       "    <tr>\n",
       "      <th>3</th>\n",
       "      <td>0</td>\n",
       "      <td>3</td>\n",
       "      <td>3</td>\n",
       "    </tr>\n",
       "    <tr>\n",
       "      <th>4</th>\n",
       "      <td>0</td>\n",
       "      <td>4</td>\n",
       "      <td>3</td>\n",
       "    </tr>\n",
       "  </tbody>\n",
       "</table>\n",
       "</div>"
      ],
      "text/plain": [
       "   userid  itemid  rating\n",
       "0       0       0       5\n",
       "1       0       1       3\n",
       "2       0       2       4\n",
       "3       0       3       3\n",
       "4       0       4       3"
      ]
     },
     "execution_count": 9,
     "metadata": {},
     "output_type": "execute_result"
    }
   ],
   "source": [
    "ratings.head()"
   ]
  },
  {
   "cell_type": "code",
   "execution_count": 10,
   "id": "215f2498-690e-449a-add0-e8925051ff1e",
   "metadata": {},
   "outputs": [
    {
     "name": "stdout",
     "output_type": "stream",
     "text": [
      "Normalize users ratings ...\n",
      "Initialize the similarity model ...\n",
      "Compute nearest neighbors ...\n",
      "User to user recommendation model created with success ...\n",
      "Compute Explainable score. Progress status : 99.9%"
     ]
    }
   ],
   "source": [
    "usertouser = UserToUser(ratings, movies)\n",
    "\n",
    "# compute explainable score\n",
    "W = explainable_score(usertouser, users, items)"
   ]
  },
  {
   "cell_type": "code",
   "execution_count": 11,
   "id": "797760f3-542e-47d4-9e5f-27383160b081",
   "metadata": {},
   "outputs": [
    {
     "name": "stdout",
     "output_type": "stream",
     "text": [
      "Training EMF\n",
      "k=10 \t alpha=0.01 \t beta=0.4 \t lambda=0.01\n",
      "epoch 1/10 - loss : 0.922 - val_loss : 1.036\n",
      "epoch 2/10 - loss : 0.79 - val_loss : 0.873\n",
      "epoch 3/10 - loss : 0.766 - val_loss : 0.837\n",
      "epoch 4/10 - loss : 0.757 - val_loss : 0.822\n",
      "epoch 5/10 - loss : 0.753 - val_loss : 0.814\n",
      "epoch 6/10 - loss : 0.751 - val_loss : 0.808\n",
      "epoch 7/10 - loss : 0.749 - val_loss : 0.805\n",
      "epoch 8/10 - loss : 0.748 - val_loss : 0.802\n",
      "epoch 9/10 - loss : 0.746 - val_loss : 0.799\n",
      "epoch 10/10 - loss : 0.745 - val_loss : 0.797\n"
     ]
    }
   ],
   "source": [
    "EMF = ExplainableMatrixFactorization(m, n, W, alpha=0.01, beta=0.4, lamb=0.01, k=10)\n",
    "\n",
    "history = EMF.fit(x_train, y_train, epochs=epochs, validation_data=(x_test, y_test))"
   ]
  },
  {
   "cell_type": "code",
   "execution_count": 13,
   "id": "8744cc6f-7f91-4e07-9960-de4e6237192a",
   "metadata": {},
   "outputs": [],
   "source": [
    "test_user_ids = np.array([a for a,b in x_test]).astype(int)\n",
    "test_movie_ids = np.array([b for a,b in x_test]).astype(int)"
   ]
  },
  {
   "cell_type": "code",
   "execution_count": 14,
   "id": "18b8b36c-24fa-4ec0-8471-9a15cf202cfe",
   "metadata": {},
   "outputs": [
    {
     "data": {
      "text/plain": [
       "3.8936231398936"
      ]
     },
     "execution_count": 14,
     "metadata": {},
     "output_type": "execute_result"
    }
   ],
   "source": [
    "EMF.predict(0,0, uencoder, iencoder)"
   ]
  },
  {
   "cell_type": "code",
   "execution_count": 15,
   "id": "a22322d9-debc-4bbe-87f4-a20057657b34",
   "metadata": {},
   "outputs": [],
   "source": [
    "predictions = []\n",
    "for a,b in x_test:\n",
    "    predictions.append(EMF.predict(a,b,uencoder,iencoder))"
   ]
  },
  {
   "cell_type": "code",
   "execution_count": 16,
   "id": "f864b008-d361-4221-ad09-127cf708b664",
   "metadata": {},
   "outputs": [
    {
     "data": {
      "text/plain": [
       "[2.3181010158444924,\n",
       " 3.3214274337099017,\n",
       " 2.726314631261953,\n",
       " 4.206935956569679,\n",
       " 2.6715781758512045]"
      ]
     },
     "execution_count": 16,
     "metadata": {},
     "output_type": "execute_result"
    }
   ],
   "source": [
    "predictions[:5]"
   ]
  },
  {
   "cell_type": "code",
   "execution_count": 16,
   "id": "987e4efa-f7d0-4b3e-b5e9-c832eb6cb764",
   "metadata": {},
   "outputs": [],
   "source": [
    "k_list = [1,5,10,15,20]"
   ]
  },
  {
   "cell_type": "code",
   "execution_count": 19,
   "id": "4af86e0a-67ee-451f-8769-fc472965ba1a",
   "metadata": {},
   "outputs": [],
   "source": [
    "ndcgs = []\n",
    "recalls = []\n",
    "mnaps = []\n",
    "\n",
    "for k in k_list:\n",
    "    ndcgs.append(EMF.calc_ndcg(np.array(predictions), k, test_user_ids, y_test, test_movie_ids))\n",
    "    recalls.append(EMF.calc_recalls(k,ratings, test_user_ids, uencoder, iencoder))\n",
    "    mnaps.append(EMF.calc_mnap(k,ratings, test_user_ids, uencoder, iencoder))"
   ]
  },
  {
   "cell_type": "code",
   "execution_count": 21,
   "id": "3f85be88-0265-4f4e-8289-710866223b49",
   "metadata": {},
   "outputs": [
    {
     "name": "stdout",
     "output_type": "stream",
     "text": [
      "NDCG scores @k: [0.87526, 0.91824, 0.93915, 0.94904, 0.95434]\n",
      "Recall scores @k: [0.03024, 0.03024, 0.03024, 0.03024, 0.03024]\n",
      "MNAP scores @k: [0.01, 0.05623, 0.07867, 0.0893, 0.10131]\n"
     ]
    }
   ],
   "source": [
    "print('NDCG scores @k: {}'.format([el.round(5) for el in ndcgs]), \n",
    "      'Recall scores @k: {}'.format([el.round(5) for el in recalls]),\n",
    "      'MNAP scores @k: {}'.format([el.round(5) for el in mnaps]), sep = '\\n')"
   ]
  },
  {
   "cell_type": "code",
   "execution_count": 15,
   "id": "fbb63354-1732-4fc5-b6fc-c1149ee096d1",
   "metadata": {},
   "outputs": [
    {
     "data": {
      "text/plain": [
       "0.9182427410063273"
      ]
     },
     "execution_count": 15,
     "metadata": {},
     "output_type": "execute_result"
    }
   ],
   "source": [
    "EMF.calc_ndcg(np.array(predictions), 5, test_user_ids, y_test, test_movie_ids)"
   ]
  },
  {
   "cell_type": "code",
   "execution_count": 10,
   "id": "cb58ab4f-f6b8-471a-8fa0-7e986bfd08e6",
   "metadata": {},
   "outputs": [
    {
     "name": "stdout",
     "output_type": "stream",
     "text": [
      "validation error : 0.797\n"
     ]
    }
   ],
   "source": [
    "EMF.evaluate(x_test, y_test)"
   ]
  },
  {
   "cell_type": "code",
   "execution_count": 10,
   "id": "43f24ee7-f5bf-487e-b80e-c01f2d27c566",
   "metadata": {},
   "outputs": [],
   "source": [
    "def eval_emf(model,x_test,y_test,predictions):\n",
    "    test_user_ids = np.array([a for a,b in x_test]).astype(int)\n",
    "    test_movie_ids = np.array([b for a,b in x_test]).astype(int)\n",
    "    test_ratings = y_test\n",
    "    ndgcs = []\n",
    "    \n",
    "    for target_users in np.unique(test_user_ids):\n",
    "        \n",
    "        target_movie_id = test_movie_ids[target_users == test_user_ids]\n",
    "        target_rating = test_ratings[target_users == test_user_ids]\n",
    "\n",
    "        rel = target_rating[np.argsort(-predictions[target_users == test_user_ids])]\n",
    "        ndgc1 = ndgc_at_k(rel, k=1)\n",
    "        ndgc5 = ndgc_at_k(rel, k=5)\n",
    "        ndgc10 = ndgc_at_k(rel, k=10)\n",
    "        ndgc15 = ndgc_at_k(rel, k=15)\n",
    "        ndgc20 = ndgc_at_k(rel, k=20)\n",
    "\n",
    "        ndgcs1.append(ndgc1)\n",
    "        ndgcs5.append(ndgc5)\n",
    "        ndgcs10.append(ndgc10)\n",
    "        ndgcs15.append(ndgc15)\n",
    "        ndgcs20.append(ndgc20)\n",
    "\n",
    "    ndcg_f1 = np.mean(ndgcs1)\n",
    "    ndcg_f5 = np.mean(ndgcs5)\n",
    "    ndcg_f10 = np.mean(ndgcs10)\n",
    "    ndcg_f15 = np.mean(ndgcs15)\n",
    "    ndcg_f20 = np.mean(ndgcs20)\n",
    "\n",
    "    return print(\"-------- K = 1 --------\",\n",
    "                  \"NDCG@k:\\t%f\" % ndcg_f1,\n",
    "                  \"Recall@k:\\t%f\" % 0,\n",
    "                  \"MNAP@K:\\t%f\" % 0, \n",
    "                  \"-------- K = 5 --------\",\n",
    "                  \"NDCG@k:\\t%f\" % ndcg_f5,\n",
    "                  \"Recall@k:\\t%f\" % 0,\n",
    "                  \"MNAP@K:\\t%f\" % 0, \n",
    "                  \"-------- K = 10 --------\",\n",
    "                  \"NDCG@k:\\t%f\" % ndcg_f10,\n",
    "                  \"Recall@k:\\t%f\" % 0,\n",
    "                  \"MNAP@K:\\t%f\" % 0, \n",
    "                  \"-------- K = 15 --------\",\n",
    "                  \"NDCG@k:\\t%f\" % ndcg_f15,\n",
    "                  \"Recall@k:\\t%f\" % 0,\n",
    "                  \"MNAP@K:\\t%f\" % 0, \n",
    "                  \"-------- K = 20 --------\",\n",
    "                  \"NDCG@k:\\t%f\" % ndcg_f20,\n",
    "                  \"Recall@k:\\t%f\" % 0,\n",
    "                  \"MNAP@K:\\t%f\" % 0, sep = '\\n')"
   ]
  },
  {
   "cell_type": "code",
   "execution_count": 21,
   "id": "e18a3e60-fbcf-4b57-877c-9529d7642723",
   "metadata": {},
   "outputs": [],
   "source": [
    "def recommend(userid, N):\n",
    "    u = uencoder.transform([userid])[0]\n",
    "    predictions = np.dot(P[u], Q.T)\n",
    "    top_idx = np.flip(np.argsort(predictions))[:N]\n",
    "    top_items = iencoder.inverse_transform(top_idx)\n",
    "    preds = predictions[top_idx]\n",
    "    return top_items, preds "
   ]
  },
  {
   "cell_type": "code",
   "execution_count": 67,
   "id": "b51431c4-dc38-495f-9171-34742d354727",
   "metadata": {},
   "outputs": [
    {
     "data": {
      "text/plain": [
       "array([[692, 381],\n",
       "       [746, 110],\n",
       "       [200, 211],\n",
       "       ...,\n",
       "       [880, 321],\n",
       "       [660, 706],\n",
       "       [675, 299]])"
      ]
     },
     "execution_count": 67,
     "metadata": {},
     "output_type": "execute_result"
    }
   ],
   "source": [
    "x_test"
   ]
  },
  {
   "cell_type": "code",
   "execution_count": 68,
   "id": "5d164a9a-31ce-44d2-b849-ed791ca04b87",
   "metadata": {},
   "outputs": [
    {
     "ename": "IndexError",
     "evalue": "boolean index did not match indexed array along dimension 0; dimension is 9933 but corresponding boolean dimension is 10000",
     "output_type": "error",
     "traceback": [
      "\u001b[0;31m---------------------------------------------------------------------------\u001b[0m",
      "\u001b[0;31mIndexError\u001b[0m                                Traceback (most recent call last)",
      "Input \u001b[0;32mIn [68]\u001b[0m, in \u001b[0;36m<cell line: 1>\u001b[0;34m()\u001b[0m\n\u001b[0;32m----> 1\u001b[0m \u001b[43meval_emf\u001b[49m\u001b[43m(\u001b[49m\u001b[43mEMF\u001b[49m\u001b[43m,\u001b[49m\u001b[43m \u001b[49m\u001b[43mx_test\u001b[49m\u001b[43m,\u001b[49m\u001b[43my_test\u001b[49m\u001b[43m,\u001b[49m\u001b[43mnp\u001b[49m\u001b[38;5;241;43m.\u001b[39;49m\u001b[43marray\u001b[49m\u001b[43m(\u001b[49m\u001b[43mpredictions\u001b[49m\u001b[43m)\u001b[49m\u001b[43m)\u001b[49m\n",
      "Input \u001b[0;32mIn [10]\u001b[0m, in \u001b[0;36meval_emf\u001b[0;34m(model, x_test, y_test, predictions)\u001b[0m\n\u001b[1;32m      9\u001b[0m target_movie_id \u001b[38;5;241m=\u001b[39m test_movie_ids[target_users \u001b[38;5;241m==\u001b[39m test_user_ids]\n\u001b[1;32m     10\u001b[0m target_rating \u001b[38;5;241m=\u001b[39m test_ratings[target_users \u001b[38;5;241m==\u001b[39m test_user_ids]\n\u001b[0;32m---> 12\u001b[0m rel \u001b[38;5;241m=\u001b[39m target_rating[np\u001b[38;5;241m.\u001b[39margsort(\u001b[38;5;241m-\u001b[39m\u001b[43mpredictions\u001b[49m\u001b[43m[\u001b[49m\u001b[43mtarget_users\u001b[49m\u001b[43m \u001b[49m\u001b[38;5;241;43m==\u001b[39;49m\u001b[43m \u001b[49m\u001b[43mtest_user_ids\u001b[49m\u001b[43m]\u001b[49m)]\n\u001b[1;32m     13\u001b[0m ndgc1 \u001b[38;5;241m=\u001b[39m ndgc_at_k(rel, k\u001b[38;5;241m=\u001b[39m\u001b[38;5;241m1\u001b[39m)\n\u001b[1;32m     14\u001b[0m ndgc5 \u001b[38;5;241m=\u001b[39m ndgc_at_k(rel, k\u001b[38;5;241m=\u001b[39m\u001b[38;5;241m5\u001b[39m)\n",
      "\u001b[0;31mIndexError\u001b[0m: boolean index did not match indexed array along dimension 0; dimension is 9933 but corresponding boolean dimension is 10000"
     ]
    }
   ],
   "source": [
    "eval_emf(EMF, x_test,y_test,np.array(predictions))"
   ]
  },
  {
   "cell_type": "code",
   "execution_count": null,
   "id": "480892d8-8925-45bc-895f-06333be3bff7",
   "metadata": {},
   "outputs": [],
   "source": []
  }
 ],
 "metadata": {
  "kernelspec": {
   "display_name": "Python 3 (ipykernel)",
   "language": "python",
   "name": "python3"
  },
  "language_info": {
   "codemirror_mode": {
    "name": "ipython",
    "version": 3
   },
   "file_extension": ".py",
   "mimetype": "text/x-python",
   "name": "python",
   "nbconvert_exporter": "python",
   "pygments_lexer": "ipython3",
   "version": "3.9.10"
  }
 },
 "nbformat": 4,
 "nbformat_minor": 5
}
