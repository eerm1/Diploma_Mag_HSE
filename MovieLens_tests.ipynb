{
 "cells": [
  {
   "cell_type": "code",
   "execution_count": 1,
   "id": "18a13800-951c-4969-962c-ede88ef17027",
   "metadata": {},
   "outputs": [],
   "source": [
    "from recommenders.datasets import movielens"
   ]
  },
  {
   "cell_type": "code",
   "execution_count": 3,
   "id": "5d209357-9519-4613-a97b-a4ed2c23c2fe",
   "metadata": {},
   "outputs": [],
   "source": [
    "import numpy as np\n",
    "import pandas as pd\n",
    "import scipy.sparse as sps\n",
    "import seaborn as sns\n",
    "import implicit\n",
    "import matplotlib.pyplot as plt\n",
    "from sklearn.metrics.pairwise import cosine_similarity\n",
    "from sklearn.model_selection import KFold, train_test_split\n",
    "from implicit.evaluation import train_test_split, mean_average_precision_at_k, precision_at_k\n",
    "from lightfm.evaluation import precision_at_k as precision_at_k_light, recall_at_k as recall_at_k_light, auc_score, reciprocal_rank\n",
    "from lightfm.cross_validation import random_train_test_split\n",
    "from lightfm import LightFM\n",
    "from sklearn.model_selection import ParameterGrid"
   ]
  },
  {
   "cell_type": "code",
   "execution_count": 4,
   "id": "e9f1576e-d208-4081-a6be-7e7c11c5ae46",
   "metadata": {},
   "outputs": [],
   "source": [
    "import scipy.sparse as sparse"
   ]
  },
  {
   "cell_type": "code",
   "execution_count": 7,
   "id": "e68c674c-6cc0-4dfe-aa89-93024abfd5d4",
   "metadata": {},
   "outputs": [
    {
     "name": "stderr",
     "output_type": "stream",
     "text": [
      "100%|██████████| 4.81k/4.81k [00:00<00:00, 7.19kKB/s]\n"
     ]
    },
    {
     "data": {
      "text/html": [
       "<div>\n",
       "<style scoped>\n",
       "    .dataframe tbody tr th:only-of-type {\n",
       "        vertical-align: middle;\n",
       "    }\n",
       "\n",
       "    .dataframe tbody tr th {\n",
       "        vertical-align: top;\n",
       "    }\n",
       "\n",
       "    .dataframe thead th {\n",
       "        text-align: right;\n",
       "    }\n",
       "</style>\n",
       "<table border=\"1\" class=\"dataframe\">\n",
       "  <thead>\n",
       "    <tr style=\"text-align: right;\">\n",
       "      <th></th>\n",
       "      <th>userID</th>\n",
       "      <th>itemID</th>\n",
       "      <th>rating</th>\n",
       "      <th>genre</th>\n",
       "    </tr>\n",
       "  </thead>\n",
       "  <tbody>\n",
       "    <tr>\n",
       "      <th>76391</th>\n",
       "      <td>669</td>\n",
       "      <td>300</td>\n",
       "      <td>4.0</td>\n",
       "      <td>Action|Thriller</td>\n",
       "    </tr>\n",
       "    <tr>\n",
       "      <th>13304</th>\n",
       "      <td>622</td>\n",
       "      <td>111</td>\n",
       "      <td>4.0</td>\n",
       "      <td>Comedy|Romance</td>\n",
       "    </tr>\n",
       "    <tr>\n",
       "      <th>48350</th>\n",
       "      <td>795</td>\n",
       "      <td>47</td>\n",
       "      <td>3.0</td>\n",
       "      <td>Comedy|Drama</td>\n",
       "    </tr>\n",
       "    <tr>\n",
       "      <th>277</th>\n",
       "      <td>853</td>\n",
       "      <td>302</td>\n",
       "      <td>4.0</td>\n",
       "      <td>Crime|Film-Noir|Mystery|Thriller</td>\n",
       "    </tr>\n",
       "    <tr>\n",
       "      <th>45080</th>\n",
       "      <td>268</td>\n",
       "      <td>71</td>\n",
       "      <td>3.0</td>\n",
       "      <td>Animation|Children's|Musical</td>\n",
       "    </tr>\n",
       "  </tbody>\n",
       "</table>\n",
       "</div>"
      ],
      "text/plain": [
       "       userID  itemID  rating                             genre\n",
       "76391     669     300     4.0                   Action|Thriller\n",
       "13304     622     111     4.0                    Comedy|Romance\n",
       "48350     795      47     3.0                      Comedy|Drama\n",
       "277       853     302     4.0  Crime|Film-Noir|Mystery|Thriller\n",
       "45080     268      71     3.0      Animation|Children's|Musical"
      ]
     },
     "execution_count": 7,
     "metadata": {},
     "output_type": "execute_result"
    }
   ],
   "source": [
    "data = movielens.load_pandas_df(\n",
    "    size='100k',\n",
    "    genres_col='genre',\n",
    "    header=[\"userID\", \"itemID\", \"rating\"]\n",
    ")\n",
    "# quick look at the data\n",
    "data.sample(5)"
   ]
  },
  {
   "cell_type": "code",
   "execution_count": 7,
   "id": "3315aa66-c94d-444d-9cfa-cc2d7d26fb3c",
   "metadata": {},
   "outputs": [
    {
     "data": {
      "text/html": [
       "<div>\n",
       "<style scoped>\n",
       "    .dataframe tbody tr th:only-of-type {\n",
       "        vertical-align: middle;\n",
       "    }\n",
       "\n",
       "    .dataframe tbody tr th {\n",
       "        vertical-align: top;\n",
       "    }\n",
       "\n",
       "    .dataframe thead th {\n",
       "        text-align: right;\n",
       "    }\n",
       "</style>\n",
       "<table border=\"1\" class=\"dataframe\">\n",
       "  <thead>\n",
       "    <tr style=\"text-align: right;\">\n",
       "      <th></th>\n",
       "      <th>userID</th>\n",
       "      <th>itemID</th>\n",
       "      <th>rating</th>\n",
       "      <th>genre</th>\n",
       "    </tr>\n",
       "  </thead>\n",
       "  <tbody>\n",
       "    <tr>\n",
       "      <th>0</th>\n",
       "      <td>196</td>\n",
       "      <td>242</td>\n",
       "      <td>3.0</td>\n",
       "      <td>Comedy</td>\n",
       "    </tr>\n",
       "    <tr>\n",
       "      <th>1</th>\n",
       "      <td>63</td>\n",
       "      <td>242</td>\n",
       "      <td>3.0</td>\n",
       "      <td>Comedy</td>\n",
       "    </tr>\n",
       "    <tr>\n",
       "      <th>2</th>\n",
       "      <td>226</td>\n",
       "      <td>242</td>\n",
       "      <td>5.0</td>\n",
       "      <td>Comedy</td>\n",
       "    </tr>\n",
       "    <tr>\n",
       "      <th>3</th>\n",
       "      <td>154</td>\n",
       "      <td>242</td>\n",
       "      <td>3.0</td>\n",
       "      <td>Comedy</td>\n",
       "    </tr>\n",
       "    <tr>\n",
       "      <th>4</th>\n",
       "      <td>306</td>\n",
       "      <td>242</td>\n",
       "      <td>5.0</td>\n",
       "      <td>Comedy</td>\n",
       "    </tr>\n",
       "  </tbody>\n",
       "</table>\n",
       "</div>"
      ],
      "text/plain": [
       "   userID  itemID  rating   genre\n",
       "0     196     242     3.0  Comedy\n",
       "1      63     242     3.0  Comedy\n",
       "2     226     242     5.0  Comedy\n",
       "3     154     242     3.0  Comedy\n",
       "4     306     242     5.0  Comedy"
      ]
     },
     "execution_count": 7,
     "metadata": {},
     "output_type": "execute_result"
    }
   ],
   "source": [
    "data.head()"
   ]
  },
  {
   "cell_type": "code",
   "execution_count": 15,
   "id": "fa5cf26e-0976-4c16-a2ce-52469c3868bf",
   "metadata": {},
   "outputs": [],
   "source": [
    "def encode_column(column):\n",
    "    \"\"\" Encodes a pandas column with continous IDs\"\"\"\n",
    "    keys = column.unique()\n",
    "    key_to_id = {key:idx for idx,key in enumerate(keys)}\n",
    "    return key_to_id, np.array([key_to_id[x] for x in column]), len(keys)"
   ]
  },
  {
   "cell_type": "code",
   "execution_count": 16,
   "id": "e5458910-fb53-4bb9-adce-65fc835d0f3d",
   "metadata": {},
   "outputs": [],
   "source": [
    "def encode_df(anime_df):\n",
    "    \"\"\"Encodes rating data with continuous user and anime ids\"\"\"\n",
    "    \n",
    "    anime_ids, anime_df['itemID'], num_anime = encode_column(anime_df['itemID'])\n",
    "    user_ids, anime_df['userID'], num_users = encode_column(anime_df['userID'])\n",
    "    return anime_df, num_users, num_anime, user_ids, anime_ids"
   ]
  },
  {
   "cell_type": "code",
   "execution_count": 17,
   "id": "3209cf7c-f64c-454d-9cfa-b0ff94fd4730",
   "metadata": {},
   "outputs": [],
   "source": [
    "anime_df, num_users, num_anime, user_ids, anime_ids = encode_df(data)"
   ]
  },
  {
   "cell_type": "code",
   "execution_count": 18,
   "id": "c42cdfa4-e36c-4d1e-9af5-04d38d12d704",
   "metadata": {},
   "outputs": [],
   "source": [
    "sparse_item_user = sparse.csr_matrix((anime_df['rating'].values,(anime_df['userID'].values, anime_df['itemID'].values)),shape=(num_users, num_anime))"
   ]
  },
  {
   "cell_type": "code",
   "execution_count": 19,
   "id": "e25b815e-b5fb-4f47-9ba7-4fc6f1cbdf4c",
   "metadata": {},
   "outputs": [],
   "source": [
    "sparse_user_item = sparse.csr_matrix((anime_df['rating'].values,(anime_df['itemID'].values, anime_df['userID'].values)),shape=(num_anime, num_users))"
   ]
  },
  {
   "cell_type": "code",
   "execution_count": 20,
   "id": "2c7ad3e0-5fdb-476f-b464-f8afa409a526",
   "metadata": {},
   "outputs": [],
   "source": [
    "model = implicit.als.AlternatingLeastSquares(factors=20, regularization=0.1, iterations=20)"
   ]
  },
  {
   "cell_type": "code",
   "execution_count": 21,
   "id": "10fbcc02-9735-4563-9f6d-718e250bce03",
   "metadata": {},
   "outputs": [],
   "source": [
    "alpha_val = 40\n",
    "data_conf = (sparse_item_user * alpha_val).astype('double')"
   ]
  },
  {
   "cell_type": "code",
   "execution_count": 22,
   "id": "f105969c-10fe-4e3e-bac7-0d779423f60a",
   "metadata": {},
   "outputs": [],
   "source": [
    "train_matrix, test_matrix = train_test_split(data_conf)"
   ]
  },
  {
   "cell_type": "code",
   "execution_count": 23,
   "id": "99a597e8-0630-4f4a-9447-689bca0cf06d",
   "metadata": {},
   "outputs": [
    {
     "data": {
      "application/vnd.jupyter.widget-view+json": {
       "model_id": "aee4688f00a94ab592e937ebaec37891",
       "version_major": 2,
       "version_minor": 0
      },
      "text/plain": [
       "  0%|          | 0/20 [00:00<?, ?it/s]"
      ]
     },
     "metadata": {},
     "output_type": "display_data"
    }
   ],
   "source": [
    "model.fit(train_matrix)"
   ]
  },
  {
   "cell_type": "code",
   "execution_count": 28,
   "id": "4a0c749b-edc9-47e3-a3a0-249cb8523228",
   "metadata": {},
   "outputs": [],
   "source": [
    "from implicit.evaluation import ndcg_at_k"
   ]
  },
  {
   "cell_type": "code",
   "execution_count": 25,
   "id": "a4d4b275-2a5c-46ec-812f-eb0a89a04b5c",
   "metadata": {},
   "outputs": [
    {
     "data": {
      "application/vnd.jupyter.widget-view+json": {
       "model_id": "f58b2df526d94ae5ba9ca35d9ea14e3a",
       "version_major": 2,
       "version_minor": 0
      },
      "text/plain": [
       "  0%|          | 0/940 [00:00<?, ?it/s]"
      ]
     },
     "metadata": {},
     "output_type": "display_data"
    },
    {
     "data": {
      "text/plain": [
       "0.15766334006337054"
      ]
     },
     "execution_count": 25,
     "metadata": {},
     "output_type": "execute_result"
    }
   ],
   "source": [
    "ndcg_at_k(model, train_matrix, test_matrix)"
   ]
  },
  {
   "cell_type": "code",
   "execution_count": 29,
   "id": "0be91328-f489-43cd-b309-c0fb817a9e31",
   "metadata": {},
   "outputs": [],
   "source": [
    "from implicit.evaluation import mean_average_precision_at_k"
   ]
  },
  {
   "cell_type": "code",
   "execution_count": 27,
   "id": "5c6c3043-4942-4762-8daa-e21bf1b885ba",
   "metadata": {},
   "outputs": [
    {
     "data": {
      "application/vnd.jupyter.widget-view+json": {
       "model_id": "07aee45bfbac48bba1481e97ec32050e",
       "version_major": 2,
       "version_minor": 0
      },
      "text/plain": [
       "  0%|          | 0/940 [00:00<?, ?it/s]"
      ]
     },
     "metadata": {},
     "output_type": "display_data"
    },
    {
     "data": {
      "text/plain": [
       "0.07085375238550905"
      ]
     },
     "execution_count": 27,
     "metadata": {},
     "output_type": "execute_result"
    }
   ],
   "source": [
    "mean_average_precision_at_k(model, train_matrix, test_matrix)"
   ]
  },
  {
   "cell_type": "code",
   "execution_count": 30,
   "id": "218fc85c-ed52-4042-b388-4d3c4d999f87",
   "metadata": {},
   "outputs": [],
   "source": [
    "from implicit.evaluation import precision_at_k"
   ]
  },
  {
   "cell_type": "code",
   "execution_count": 29,
   "id": "441b1722-9553-4242-8c5e-8f1c8f500bf6",
   "metadata": {},
   "outputs": [
    {
     "data": {
      "application/vnd.jupyter.widget-view+json": {
       "model_id": "242874d206e64952b6de9b89b6741943",
       "version_major": 2,
       "version_minor": 0
      },
      "text/plain": [
       "  0%|          | 0/940 [00:00<?, ?it/s]"
      ]
     },
     "metadata": {},
     "output_type": "display_data"
    },
    {
     "data": {
      "text/plain": [
       "0.16437492115554433"
      ]
     },
     "execution_count": 29,
     "metadata": {},
     "output_type": "execute_result"
    }
   ],
   "source": [
    "precision_at_k(model, train_matrix, test_matrix)"
   ]
  },
  {
   "cell_type": "code",
   "execution_count": null,
   "id": "d239ac6b-5e28-4fee-8fac-1f23d76e28df",
   "metadata": {},
   "outputs": [],
   "source": []
  },
  {
   "cell_type": "code",
   "execution_count": 31,
   "id": "977b162d-c7e8-49aa-a2bc-7d6e9e743244",
   "metadata": {},
   "outputs": [],
   "source": [
    "import surprise"
   ]
  },
  {
   "cell_type": "code",
   "execution_count": 32,
   "id": "15c14a51-ad3f-43ae-a077-a2f36da889cb",
   "metadata": {},
   "outputs": [],
   "source": [
    "from recommenders.datasets.python_splitters import python_random_split\n",
    "import surprise"
   ]
  },
  {
   "cell_type": "code",
   "execution_count": 33,
   "id": "6c85ac6c-9041-46fe-862d-b052f312dcb4",
   "metadata": {},
   "outputs": [],
   "source": [
    "train, test = python_random_split(data[['userID', 'itemID', 'rating']], 0.75)"
   ]
  },
  {
   "cell_type": "code",
   "execution_count": 34,
   "id": "2aacd0b4-2df7-4a55-bda3-1450b5272da1",
   "metadata": {},
   "outputs": [],
   "source": [
    "from recommenders.evaluation.python_evaluation import (rmse, mae, rsquared, exp_var, map_at_k, ndcg_at_k, precision_at_k, \n",
    "                                                     recall_at_k, get_top_k_items)\n",
    "from recommenders.models.surprise.surprise_utils import predict, compute_ranking_predictions"
   ]
  },
  {
   "cell_type": "code",
   "execution_count": 38,
   "id": "dbd3f96d-5262-4ca5-b0af-466a4818abdc",
   "metadata": {},
   "outputs": [
    {
     "data": {
      "text/plain": [
       "<surprise.trainset.Trainset at 0x7f1435520310>"
      ]
     },
     "execution_count": 38,
     "metadata": {},
     "output_type": "execute_result"
    }
   ],
   "source": [
    "train_set = surprise.Dataset.load_from_df(train, reader=surprise.Reader('ml-100k')).build_full_trainset()\n",
    "train_set"
   ]
  },
  {
   "cell_type": "code",
   "execution_count": null,
   "id": "17a53a65-4233-49c3-b560-30a41a15e9e8",
   "metadata": {},
   "outputs": [],
   "source": [
    "trainset, testset = train_test_split(data, test_size=.25)"
   ]
  },
  {
   "cell_type": "code",
   "execution_count": 40,
   "id": "74ae329b-8a44-44b4-9d35-195a763435c6",
   "metadata": {},
   "outputs": [],
   "source": [
    "svd = surprise.SVD(random_state=0, n_factors=200, n_epochs=30, verbose=True)"
   ]
  },
  {
   "cell_type": "code",
   "execution_count": 41,
   "id": "596c1227-8f9a-463c-a67c-5632a01d2568",
   "metadata": {},
   "outputs": [
    {
     "name": "stdout",
     "output_type": "stream",
     "text": [
      "Processing epoch 0\n",
      "Processing epoch 1\n",
      "Processing epoch 2\n",
      "Processing epoch 3\n",
      "Processing epoch 4\n",
      "Processing epoch 5\n",
      "Processing epoch 6\n",
      "Processing epoch 7\n",
      "Processing epoch 8\n",
      "Processing epoch 9\n",
      "Processing epoch 10\n",
      "Processing epoch 11\n",
      "Processing epoch 12\n",
      "Processing epoch 13\n",
      "Processing epoch 14\n",
      "Processing epoch 15\n",
      "Processing epoch 16\n",
      "Processing epoch 17\n",
      "Processing epoch 18\n",
      "Processing epoch 19\n",
      "Processing epoch 20\n",
      "Processing epoch 21\n",
      "Processing epoch 22\n",
      "Processing epoch 23\n",
      "Processing epoch 24\n",
      "Processing epoch 25\n",
      "Processing epoch 26\n",
      "Processing epoch 27\n",
      "Processing epoch 28\n",
      "Processing epoch 29\n"
     ]
    },
    {
     "data": {
      "text/plain": [
       "<surprise.prediction_algorithms.matrix_factorization.SVD at 0x7f14355b2580>"
      ]
     },
     "execution_count": 41,
     "metadata": {},
     "output_type": "execute_result"
    }
   ],
   "source": [
    "svd.fit(train_set)"
   ]
  },
  {
   "cell_type": "code",
   "execution_count": 43,
   "id": "d10f67e3-f2a7-4f09-b35e-d61b63947b20",
   "metadata": {},
   "outputs": [
    {
     "data": {
      "text/html": [
       "<div>\n",
       "<style scoped>\n",
       "    .dataframe tbody tr th:only-of-type {\n",
       "        vertical-align: middle;\n",
       "    }\n",
       "\n",
       "    .dataframe tbody tr th {\n",
       "        vertical-align: top;\n",
       "    }\n",
       "\n",
       "    .dataframe thead th {\n",
       "        text-align: right;\n",
       "    }\n",
       "</style>\n",
       "<table border=\"1\" class=\"dataframe\">\n",
       "  <thead>\n",
       "    <tr style=\"text-align: right;\">\n",
       "      <th></th>\n",
       "      <th>userID</th>\n",
       "      <th>itemID</th>\n",
       "      <th>prediction</th>\n",
       "    </tr>\n",
       "  </thead>\n",
       "  <tbody>\n",
       "    <tr>\n",
       "      <th>0</th>\n",
       "      <td>181</td>\n",
       "      <td>646</td>\n",
       "      <td>3.442847</td>\n",
       "    </tr>\n",
       "    <tr>\n",
       "      <th>1</th>\n",
       "      <td>354</td>\n",
       "      <td>709</td>\n",
       "      <td>3.044291</td>\n",
       "    </tr>\n",
       "    <tr>\n",
       "      <th>2</th>\n",
       "      <td>477</td>\n",
       "      <td>118</td>\n",
       "      <td>4.495290</td>\n",
       "    </tr>\n",
       "    <tr>\n",
       "      <th>3</th>\n",
       "      <td>589</td>\n",
       "      <td>655</td>\n",
       "      <td>3.663062</td>\n",
       "    </tr>\n",
       "    <tr>\n",
       "      <th>4</th>\n",
       "      <td>605</td>\n",
       "      <td>1016</td>\n",
       "      <td>3.816549</td>\n",
       "    </tr>\n",
       "  </tbody>\n",
       "</table>\n",
       "</div>"
      ],
      "text/plain": [
       "   userID  itemID  prediction\n",
       "0     181     646    3.442847\n",
       "1     354     709    3.044291\n",
       "2     477     118    4.495290\n",
       "3     589     655    3.663062\n",
       "4     605    1016    3.816549"
      ]
     },
     "execution_count": 43,
     "metadata": {},
     "output_type": "execute_result"
    }
   ],
   "source": [
    "predictions = predict(svd, test, usercol='userID', itemcol='itemID')\n",
    "predictions.head()"
   ]
  },
  {
   "cell_type": "code",
   "execution_count": 44,
   "id": "1b773e71-164d-449b-84f4-e700f98d5a67",
   "metadata": {},
   "outputs": [],
   "source": [
    "all_predictions = compute_ranking_predictions(svd, train, remove_seen=True)"
   ]
  },
  {
   "cell_type": "code",
   "execution_count": 45,
   "id": "6af0f821-b04e-40a7-b932-d758b6e7e14b",
   "metadata": {},
   "outputs": [],
   "source": [
    "k = 10 \n",
    "eval_ndcg = ndcg_at_k(test, all_predictions, col_prediction='prediction', k=k)"
   ]
  },
  {
   "cell_type": "code",
   "execution_count": 46,
   "id": "0d2d7760-61e1-4883-a987-e24b8f801d1d",
   "metadata": {},
   "outputs": [
    {
     "name": "stdout",
     "output_type": "stream",
     "text": [
      "MAP:\t0.014182\n",
      "NDCG:\t0.105142\n",
      "Precision@K:\t0.097879\n",
      "Recall@K:\t0.034634\n"
     ]
    }
   ],
   "source": [
    "k = 10\n",
    "eval_map = map_at_k(test, all_predictions, col_prediction='prediction', k=k)\n",
    "eval_ndcg = ndcg_at_k(test, all_predictions, col_prediction='prediction', k=k)\n",
    "eval_precision = precision_at_k(test, all_predictions, col_prediction='prediction', k=k)\n",
    "eval_recall = recall_at_k(test, all_predictions, col_prediction='prediction', k=k)\n",
    "\n",
    "print(\"MAP:\\t%f\" % eval_map,\n",
    "      \"NDCG:\\t%f\" % eval_ndcg,\n",
    "      \"Precision@K:\\t%f\" % eval_precision,\n",
    "      \"Recall@K:\\t%f\" % eval_recall, sep='\\n')"
   ]
  },
  {
   "cell_type": "code",
   "execution_count": 47,
   "id": "89460b0a-cbdd-4b6e-9f6b-ccd6676297fa",
   "metadata": {},
   "outputs": [],
   "source": [
    "svdpp = surprise.SVDpp(random_state=0, n_factors=20, n_epochs=10, verbose=True)"
   ]
  },
  {
   "cell_type": "code",
   "execution_count": 48,
   "id": "7f6cbe6c-8df6-4d99-849c-3a75385f53cf",
   "metadata": {},
   "outputs": [
    {
     "name": "stdout",
     "output_type": "stream",
     "text": [
      " processing epoch 0\n",
      " processing epoch 1\n",
      " processing epoch 2\n",
      " processing epoch 3\n",
      " processing epoch 4\n",
      " processing epoch 5\n",
      " processing epoch 6\n",
      " processing epoch 7\n",
      " processing epoch 8\n",
      " processing epoch 9\n"
     ]
    },
    {
     "data": {
      "text/plain": [
       "<surprise.prediction_algorithms.matrix_factorization.SVDpp at 0x7f14368b4190>"
      ]
     },
     "execution_count": 48,
     "metadata": {},
     "output_type": "execute_result"
    }
   ],
   "source": [
    "svdpp.fit(train_set)"
   ]
  },
  {
   "cell_type": "code",
   "execution_count": 49,
   "id": "bdd8eda4-8fdb-46d9-b089-4143c795a365",
   "metadata": {},
   "outputs": [],
   "source": [
    "all_predictions_svdpp = compute_ranking_predictions(svdpp, train, remove_seen=True)"
   ]
  },
  {
   "cell_type": "code",
   "execution_count": 51,
   "id": "0dee231b-0af6-4332-be91-a4bd9ba23410",
   "metadata": {},
   "outputs": [
    {
     "name": "stdout",
     "output_type": "stream",
     "text": [
      "MAP:\t0.012679\n",
      "NDCG:\t0.099899\n",
      "Precision@K:\t0.094592\n",
      "Recall@K:\t0.031989\n"
     ]
    }
   ],
   "source": [
    "k = 10\n",
    "eval_map_pp = map_at_k(test, all_predictions_svdpp,col_prediction='prediction', k=k)\n",
    "eval_ndcg_pp = ndcg_at_k(test, all_predictions_svdpp, col_prediction='prediction', k=k)\n",
    "eval_precision_pp = precision_at_k(test, all_predictions_svdpp, col_prediction='prediction', k=k)\n",
    "eval_recall_pp = recall_at_k(test, all_predictions_svdpp , col_prediction='prediction', k=k)\n",
    "\n",
    "print(\"MAP:\\t%f\" % eval_map_pp,\n",
    "      \"NDCG:\\t%f\" % eval_ndcg_pp,\n",
    "      \"Precision@K:\\t%f\" % eval_precision_pp,\n",
    "      \"Recall@K:\\t%f\" % eval_recall_pp, sep='\\n')"
   ]
  },
  {
   "cell_type": "code",
   "execution_count": 24,
   "id": "a4b4c3ab-b2f5-4e40-9252-0a73d57b860c",
   "metadata": {},
   "outputs": [],
   "source": [
    "import implicit"
   ]
  },
  {
   "cell_type": "code",
   "execution_count": 25,
   "id": "364b13ad-4536-401e-93cf-a5000c3fbc2c",
   "metadata": {},
   "outputs": [],
   "source": [
    "model2 = implicit.bpr.BayesianPersonalizedRanking(factors = 20, regularization=0.1, iterations=20)"
   ]
  },
  {
   "cell_type": "code",
   "execution_count": 7,
   "id": "3ff5e502-4ab0-44f9-92f1-731beed7465a",
   "metadata": {},
   "outputs": [],
   "source": [
    "from implicit.evaluation import train_test_split, mean_average_precision_at_k, precision_at_k"
   ]
  },
  {
   "cell_type": "code",
   "execution_count": 27,
   "id": "05c28351-c962-49e5-947e-687de43a28c6",
   "metadata": {},
   "outputs": [
    {
     "data": {
      "application/vnd.jupyter.widget-view+json": {
       "model_id": "651811301af744288c4dac5f243cb6dc",
       "version_major": 2,
       "version_minor": 0
      },
      "text/plain": [
       "  0%|          | 0/20 [00:00<?, ?it/s]"
      ]
     },
     "metadata": {},
     "output_type": "display_data"
    }
   ],
   "source": [
    "model2.fit(train_matrix)"
   ]
  },
  {
   "cell_type": "code",
   "execution_count": 31,
   "id": "e1917ed0-1be6-40c3-b8f0-45e1f4cc4872",
   "metadata": {},
   "outputs": [
    {
     "data": {
      "application/vnd.jupyter.widget-view+json": {
       "model_id": "f65a96972d484c609583c3e581e3e0b2",
       "version_major": 2,
       "version_minor": 0
      },
      "text/plain": [
       "  0%|          | 0/942 [00:00<?, ?it/s]"
      ]
     },
     "metadata": {},
     "output_type": "display_data"
    },
    {
     "data": {
      "text/plain": [
       "0.20335337125966102"
      ]
     },
     "execution_count": 31,
     "metadata": {},
     "output_type": "execute_result"
    }
   ],
   "source": [
    "ndcg_at_k(model2, train_matrix, test_matrix)"
   ]
  },
  {
   "cell_type": "code",
   "execution_count": 32,
   "id": "32b55116-aa72-40c6-a1d3-823bb15ca3cf",
   "metadata": {},
   "outputs": [
    {
     "data": {
      "application/vnd.jupyter.widget-view+json": {
       "model_id": "ab403c48306646ec947244ae1835778d",
       "version_major": 2,
       "version_minor": 0
      },
      "text/plain": [
       "  0%|          | 0/942 [00:00<?, ?it/s]"
      ]
     },
     "metadata": {},
     "output_type": "display_data"
    },
    {
     "data": {
      "text/plain": [
       "0.11001686069961512"
      ]
     },
     "execution_count": 32,
     "metadata": {},
     "output_type": "execute_result"
    }
   ],
   "source": [
    "mean_average_precision_at_k(model2, train_matrix, test_matrix)"
   ]
  },
  {
   "cell_type": "code",
   "execution_count": 33,
   "id": "d7c36561-46b2-445c-92e0-51927c57334e",
   "metadata": {},
   "outputs": [
    {
     "data": {
      "application/vnd.jupyter.widget-view+json": {
       "model_id": "f7dbae812abc40cf8d0a960c9216041b",
       "version_major": 2,
       "version_minor": 0
      },
      "text/plain": [
       "  0%|          | 0/942 [00:00<?, ?it/s]"
      ]
     },
     "metadata": {},
     "output_type": "display_data"
    },
    {
     "data": {
      "text/plain": [
       "0.21178102926337034"
      ]
     },
     "execution_count": 33,
     "metadata": {},
     "output_type": "execute_result"
    }
   ],
   "source": [
    "precision_at_k(model2, train_matrix, test_matrix)"
   ]
  },
  {
   "cell_type": "code",
   "execution_count": null,
   "id": "b28e0206-d3d2-4180-bf2d-0b4ff12de186",
   "metadata": {},
   "outputs": [],
   "source": []
  },
  {
   "cell_type": "code",
   "execution_count": null,
   "id": "fd61ef7f-42a9-408c-a5e7-0d0b86476a8c",
   "metadata": {},
   "outputs": [],
   "source": []
  }
 ],
 "metadata": {
  "kernelspec": {
   "display_name": "Python 3 (ipykernel)",
   "language": "python",
   "name": "python3"
  },
  "language_info": {
   "codemirror_mode": {
    "name": "ipython",
    "version": 3
   },
   "file_extension": ".py",
   "mimetype": "text/x-python",
   "name": "python",
   "nbconvert_exporter": "python",
   "pygments_lexer": "ipython3",
   "version": "3.9.10"
  }
 },
 "nbformat": 4,
 "nbformat_minor": 5
}
